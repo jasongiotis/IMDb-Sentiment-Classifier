{
  "nbformat": 4,
  "nbformat_minor": 0,
  "metadata": {
    "colab": {
      "provenance": []
    },
    "kernelspec": {
      "name": "python3",
      "display_name": "Python 3"
    },
    "language_info": {
      "name": "python"
    }
  },
  "cells": [
    {
      "cell_type": "code",
      "execution_count": null,
      "metadata": {
        "colab": {
          "base_uri": "https://localhost:8080/"
        },
        "id": "__qZT6Iu7Ik2",
        "outputId": "ba810ce7-4a5d-4dc6-d061-4d7e7a027b15"
      },
      "outputs": [
        {
          "output_type": "stream",
          "name": "stderr",
          "text": [
            "[nltk_data] Downloading package punkt to /root/nltk_data...\n",
            "[nltk_data]   Unzipping tokenizers/punkt.zip.\n",
            "[nltk_data] Downloading package stopwords to /root/nltk_data...\n",
            "[nltk_data]   Unzipping corpora/stopwords.zip.\n",
            "[nltk_data] Downloading package wordnet to /root/nltk_data...\n",
            "[nltk_data] Downloading package omw-1.4 to /root/nltk_data...\n"
          ]
        }
      ],
      "source": [
        "# Imports\n",
        "import torch\n",
        "import torch.nn as nn\n",
        "import torch.nn.functional as F\n",
        "import torch.optim as optim\n",
        "import os\n",
        "import numpy as np\n",
        "\n",
        "import torchvision\n",
        "import torchvision.datasets as dsets\n",
        "import torchvision.transforms as transforms\n",
        "\n",
        "import matplotlib.pyplot as plt\n",
        "%matplotlib inline\n",
        "import sklearn.metrics\n",
        "import seaborn as sns\n",
        "import random\n",
        "import sys\n",
        "\n",
        "import csv\n",
        "import matplotlib.pyplot as plt\n",
        "import pandas as pd\n",
        "from sklearn.feature_extraction.text import CountVectorizer, TfidfVectorizer\n",
        "import nltk\n",
        "nltk.download('punkt')\n",
        "nltk.download('stopwords')\n",
        "nltk.download('wordnet')\n",
        "nltk.download('omw-1.4')\n",
        "import numpy as np\n",
        "from sklearn.linear_model import LogisticRegression\n",
        "import sklearn.metrics\n",
        "from sklearn.model_selection import train_test_split, cross_val_score\n",
        "\n",
        "from nltk import WordNetLemmatizer\n",
        "from nltk.stem import PorterStemmer\n",
        "from nltk.corpus import stopwords\n",
        "from nltk.tokenize import word_tokenize\n",
        "import re   \n",
        "import torch\n",
        "import torch.nn as nn\n",
        "import matplotlib.pyplot as plt\n",
        "import pandas as pd\n",
        "import numpy\n",
        "\n",
        "\n",
        "\n"
      ]
    },
    {
      "cell_type": "code",
      "source": [
        "!wget http://nlp.stanford.edu/data/glove.6B.zip"
      ],
      "metadata": {
        "colab": {
          "base_uri": "https://localhost:8080/"
        },
        "id": "FC3WZwVO7QcN",
        "outputId": "c44f3606-30d7-4dbc-fb7c-2f243c9bf291"
      },
      "execution_count": null,
      "outputs": [
        {
          "output_type": "stream",
          "name": "stdout",
          "text": [
            "--2023-01-27 09:58:45--  http://nlp.stanford.edu/data/glove.6B.zip\n",
            "Resolving nlp.stanford.edu (nlp.stanford.edu)... 171.64.67.140\n",
            "Connecting to nlp.stanford.edu (nlp.stanford.edu)|171.64.67.140|:80... connected.\n",
            "HTTP request sent, awaiting response... 302 Found\n",
            "Location: https://nlp.stanford.edu/data/glove.6B.zip [following]\n",
            "--2023-01-27 09:58:45--  https://nlp.stanford.edu/data/glove.6B.zip\n",
            "Connecting to nlp.stanford.edu (nlp.stanford.edu)|171.64.67.140|:443... connected.\n",
            "HTTP request sent, awaiting response... 301 Moved Permanently\n",
            "Location: https://downloads.cs.stanford.edu/nlp/data/glove.6B.zip [following]\n",
            "--2023-01-27 09:58:45--  https://downloads.cs.stanford.edu/nlp/data/glove.6B.zip\n",
            "Resolving downloads.cs.stanford.edu (downloads.cs.stanford.edu)... 171.64.64.22\n",
            "Connecting to downloads.cs.stanford.edu (downloads.cs.stanford.edu)|171.64.64.22|:443... connected.\n",
            "HTTP request sent, awaiting response... 200 OK\n",
            "Length: 862182613 (822M) [application/zip]\n",
            "Saving to: ‘glove.6B.zip’\n",
            "\n",
            "glove.6B.zip        100%[===================>] 822.24M  5.00MB/s    in 2m 39s  \n",
            "\n",
            "2023-01-27 10:01:24 (5.19 MB/s) - ‘glove.6B.zip’ saved [862182613/862182613]\n",
            "\n"
          ]
        }
      ]
    },
    {
      "cell_type": "code",
      "source": [
        "!unzip glove*.zip"
      ],
      "metadata": {
        "colab": {
          "base_uri": "https://localhost:8080/"
        },
        "id": "pmQoS6Yi9Zja",
        "outputId": "c49effce-5290-4e4f-cc59-2b0a7ed8e035"
      },
      "execution_count": null,
      "outputs": [
        {
          "output_type": "stream",
          "name": "stdout",
          "text": [
            "Archive:  glove.6B.zip\n",
            "  inflating: glove.6B.50d.txt        \n",
            "  inflating: glove.6B.100d.txt       \n",
            "  inflating: glove.6B.200d.txt       \n",
            "  inflating: glove.6B.300d.txt       \n"
          ]
        }
      ]
    },
    {
      "cell_type": "code",
      "source": [
        "from google.colab import drive\n",
        "drive.mount('/content/drive')"
      ],
      "metadata": {
        "colab": {
          "base_uri": "https://localhost:8080/"
        },
        "id": "84zA-1_B7TQt",
        "outputId": "5bd06455-e4f6-4f31-98f7-02f8bee2ea83"
      },
      "execution_count": null,
      "outputs": [
        {
          "output_type": "stream",
          "name": "stdout",
          "text": [
            "Mounted at /content/drive\n"
          ]
        }
      ]
    },
    {
      "cell_type": "code",
      "source": [
        "\n",
        "def set_seed(seed = 1234):\n",
        "    '''Sets the seed of the entire notebook so results are the same every time we run. This is for REPRODUCIBILITY.\n",
        "    '''\n",
        "    np.random.seed(seed)\n",
        "    random.seed(seed)\n",
        "    torch.manual_seed(seed)\n",
        "    torch.cuda.manual_seed(seed)\n",
        "    # When running on the CuDNN backend, two further options must be set\n",
        "    torch.backends.cudnn.deterministic = True\n",
        "    # Set a fixed value for the hash seed\n",
        "    os.environ['PYTHONHASHSEED'] = str(seed)\n",
        "    \n",
        "set_seed()\n",
        "\n",
        "device = 'cpu'\n",
        "print('Working on:', device)"
      ],
      "metadata": {
        "colab": {
          "base_uri": "https://localhost:8080/"
        },
        "id": "cRnHKkfeqcWv",
        "outputId": "e7cb57d7-8d68-450e-ff2e-be127173cfc7"
      },
      "execution_count": null,
      "outputs": [
        {
          "output_type": "stream",
          "name": "stdout",
          "text": [
            "Working on: cpu\n"
          ]
        }
      ]
    },
    {
      "cell_type": "code",
      "source": [
        "def normalize_review(review):\n",
        "    #normalize data\n",
        "    # Remove hashtags\n",
        "    res = re.sub(r'(#)(#)*(\\w)*', '', review)\n",
        "    # Remove all punctuations and special characters\n",
        "    res = re.sub(r'[^\\w\\s]', '', res)\n",
        "    lemmatizer = WordNetLemmatizer()\n",
        "    lemmatized_tweets_tokenized = []\n",
        "    review_words = []\n",
        "    word_tokens = word_tokenize(res)\n",
        "    for word in word_tokens:\n",
        "        lemmatized_word = lemmatizer.lemmatize(word)\n",
        "        review_words.append(lemmatized_word)\n",
        "    res =  (' '.join([str(elem) for elem in review_words]).lower())\n",
        "    return res\n"
      ],
      "metadata": {
        "id": "9lZ9PxaZ7Z1T"
      },
      "execution_count": null,
      "outputs": []
    },
    {
      "cell_type": "code",
      "source": [
        "my_test= None    # Please enter your dataframe here like this my_test = pd.read_csv('/content/drive/MyDrive/AI2/imdb-reviews.csv', sep='\\t')\n",
        "if(not (my_test is  None)):\n",
        "    my_test = pd.read_csv('/content/drive/MyDrive/AI2/imdb-reviews.csv', sep='\\t')\n",
        "    my_test['review'] = my_test['review'].apply(normalize_review)\n",
        "    my_test.loc[my_test['rating'] <=4 , 'rating'] = 0   #if your dataframe already has ratings in binary form please comment out these two lines \n",
        "    my_test.loc[my_test['rating'] >= 7, 'rating'] = 1\n",
        "\n",
        "\n",
        "  \n"
      ],
      "metadata": {
        "id": "AfePJH0tbvKw"
      },
      "execution_count": null,
      "outputs": []
    },
    {
      "cell_type": "code",
      "source": [
        "    df1 = pd.read_csv('/content/drive/MyDrive/AI2/imdb-reviews.csv', sep='\\t')\n",
        "    df1['review'] = df1['review'].apply(normalize_review)\n",
        "    df1.loc[df1['rating'] <=4 , 'rating'] = 0\n",
        "    df1.loc[df1['rating'] >= 7, 'rating'] = 1\n",
        "    print(len(df1))\n",
        "   "
      ],
      "metadata": {
        "colab": {
          "base_uri": "https://localhost:8080/"
        },
        "id": "-386a02ij9tz",
        "outputId": "8b8b7745-d1cd-4fb6-8e72-b52add89ef20"
      },
      "execution_count": null,
      "outputs": [
        {
          "output_type": "stream",
          "name": "stdout",
          "text": [
            "45008\n"
          ]
        }
      ]
    },
    {
      "cell_type": "code",
      "execution_count": null,
      "metadata": {
        "colab": {
          "base_uri": "https://localhost:8080/"
        },
        "id": "tbrKc9rlNo_D",
        "outputId": "1cf6e111-4075-4de8-8c0b-fee904c6bf64"
      },
      "outputs": [
        {
          "output_type": "execute_result",
          "data": {
            "text/plain": [
              "(400000, 300)"
            ]
          },
          "metadata": {},
          "execution_count": 9
        }
      ],
      "source": [
        "from gensim.scripts.glove2word2vec import glove2word2vec\n",
        "import pandas as pd\n",
        "\n",
        "glove_input_file = 'glove.6B.300d.txt'\n",
        "w2v_output_file = '/content/drive/MyDrive/AI2/glv_with_w2v_format.txt'\n",
        "\n",
        "glove2word2vec(glove_input_file, w2v_output_file)"
      ]
    },
    {
      "cell_type": "code",
      "execution_count": null,
      "metadata": {
        "id": "Tf53sI0XYvBQ"
      },
      "outputs": [],
      "source": [
        "from gensim.models import KeyedVectors\n",
        "\n",
        "model = KeyedVectors.load_word2vec_format(w2v_output_file, binary=False)"
      ]
    },
    {
      "cell_type": "code",
      "execution_count": null,
      "metadata": {
        "colab": {
          "base_uri": "https://localhost:8080/"
        },
        "id": "BZu_PvVsgNlu",
        "outputId": "60f79298-2394-4638-c4bd-d13649cce46c"
      },
      "outputs": [
        {
          "output_type": "stream",
          "name": "stdout",
          "text": [
            "45008\n"
          ]
        }
      ],
      "source": [
        "\n",
        "#creating w2v\n",
        "review_vector=[]\n",
        "for review in df1[\"review\"]:\n",
        "  k=0.0\n",
        "  rev_vector=0\n",
        "  for word in review.split():\n",
        "    if word in model.vocab:\n",
        "      k+=1.0\n",
        "      rev_vector+=model[word]\n",
        "  if(k!=0.0):\n",
        "    rev_vector/=k #dividing the sum of the words by k (the words from the review wich exist in the model's vocab)\n",
        "    review_vector.append(rev_vector)\n",
        "  else:\n",
        "    rev_vector=[0]*model.vector_size #initializing an array of 0 in case no word of the  model appears in review\n",
        "    review_vector.append(rev_vector)\n",
        "\n",
        "print(len(review_vector))\n",
        "\n",
        "      "
      ]
    },
    {
      "cell_type": "code",
      "execution_count": null,
      "metadata": {
        "id": "dDPBts_GZNna"
      },
      "outputs": [],
      "source": [
        "revs=review_vector\n",
        "rt=df1[[\"rating\"]]\n",
        "\n",
        "if my_test is None:\n",
        "  x_train, x_test, y_train, y_test = train_test_split(revs, rt, test_size=0.15)\n",
        "else:\n",
        "    x_train=revs\n",
        "    y_train=rt\n",
        "    y_test=my_test[\"rating\"]\n",
        "    review_test_vector=[]\n",
        "    for review in my_test[\"review\"]: #converting your data to w2v as well\n",
        "      k=0.0\n",
        "      rev_vector=0\n",
        "      for word in review.split():\n",
        "        if word in model.vocab:\n",
        "          k+=1.0\n",
        "          rev_vector+=model[word]\n",
        "      if(k!=0.0):\n",
        "        rev_vector/=k\n",
        "        review_test_vector.append(rev_vector)\n",
        "      else:\n",
        "        rev_vector=[0]*model.vector_size\n",
        "        review_test_vector.append(rev_vector)\n",
        "    x_test= review_test_vector\n",
        "    print(len(x_test))\n",
        "\n",
        "\n",
        "\n"
      ]
    },
    {
      "cell_type": "code",
      "execution_count": null,
      "metadata": {
        "id": "-LG-1GNVBFIC"
      },
      "outputs": [],
      "source": [
        "\n",
        "# print(test_x.shape, test_y.shape)\n",
        "from torch.utils.data import TensorDataset\n",
        "from torch.utils.data import DataLoader\n",
        "class RNN(nn.Module):\n",
        "    def __init__(self, input_size, hidden_size, num_layers, num_classes, dropout_p=0.1):\n",
        "        super(RNN, self).__init__()\n",
        "        self.hidden_size = hidden_size\n",
        "        self.num_layers = num_layers\n",
        "        self.cell_type = nn.GRU(input_size, hidden_size, num_layers, batch_first=True,bidirectional=True)\n",
        "        self.dropout = nn.Dropout(dropout_p)\n",
        "        self.fc = nn.Linear(hidden_size*2, num_classes)\n",
        "        self.layer_num = 1\n",
        "\n",
        "    def forward(self, x):\n",
        "        dot_product = torch.bmm(x, x.transpose(1, 2))  #attention function\n",
        "        dot_product = dot_product / (300 ** 0.5)\n",
        "        attention_weights = F.softmax(dot_product, dim=2)\n",
        "        x = torch.bmm(attention_weights, x)\n",
        "        out, _ = self.cell_type(x)\n",
        "        if self.layer_num % 2 == 1 and self.layer_num != 1: #skiping connections adding layer 1 to 3 and 3 to 5  \n",
        "            out[:, :, self.layer_num-1] += out[:, :, self.layer_num-3]\n",
        "        elif self.layer_num != 2: #skiping connections adding layer 2 to 4 a \n",
        "            out[:, :, self.layer_num-1] += out[:, :, self.layer_num-3]\n",
        "        out = out[:, -1]\n",
        "        out = self.dropout(out)\n",
        "        out = self.fc(out)\n",
        "        return out\n",
        "\n",
        "\n",
        "    def clip_gradients(self, clip_norm):\n",
        "        torch.nn.utils.clip_grad_norm_(self.parameters(), clip_norm)\n",
        "# Define the model parameters\n",
        "input_size = 300\n",
        "hidden_size = 300\n",
        "\n",
        "num_layers = 5\n",
        "num_classes = 2\n",
        "\n",
        "# Initialize the model\n",
        "model = RNN(input_size, hidden_size, num_layers, num_classes)\n",
        "learning_rate = 1e-4\n",
        "# Define the loss function and optimizer\n",
        "criterion =  nn.CrossEntropyLoss()\n",
        "optimizer = torch.optim.Adam(model.parameters(),lr=learning_rate)\n",
        "\n",
        "\n",
        "# Convert x_train and x_test to numpy arrays\n",
        "x_train = np.array(x_train)\n",
        "x_test = np.array(x_test)\n",
        "\n",
        "\n",
        "\n",
        "# Create tensors from the numpy arrays\n",
        "x_train = torch.from_numpy(x_train).float()\n",
        "x_test = torch.from_numpy(x_test).float()\n",
        "\n",
        "y_train = np.array(y_train)\n",
        "y_test = np.array(y_test)\n",
        "\n",
        "# convert y_train and y_test to tensors\n",
        "y_train = torch.from_numpy(y_train).float()\n",
        "y_test = torch.from_numpy(y_test).float()\n",
        "dataset = TensorDataset(x_train, y_train)\n",
        "dataset2 = TensorDataset(x_test, y_test)\n",
        "dataloader = DataLoader(dataset, batch_size=128, shuffle=True)\n",
        "\n",
        "dataloader2=DataLoader(dataset2,batch_size=128,shuffle=True)\n"
      ]
    },
    {
      "cell_type": "code",
      "source": [
        "from sklearn.metrics import accuracy_score, precision_score, f1_score\n",
        "\n",
        "# Train the model for a chosen number of epochs\n",
        "train_accuracies = []\n",
        "train_losses = []\n",
        "num_epochs = 15\n",
        "for epoch in range(num_epochs):\n",
        "    for data in dataloader:\n",
        "        for i in range(num_layers):\n",
        "          x_batch, y_batch = data\n",
        "          x_batch= x_batch.view(-1,1, 300)\n",
        "          model.layer_num=i+1\n",
        "          output = model(x_batch)\n",
        "          y_batch = y_batch.view(-1)\n",
        "          y_batch=y_batch.long()\n",
        "          loss = criterion(output, y_batch)\n",
        "          optimizer.zero_grad()\n",
        "          loss.backward()\n",
        "          model.clip_gradients(clip_norm=1.0) #clipping gradients\n",
        "          optimizer.step()\n",
        "    _, predicted = torch.max(output.data, 1) #getting the positive numv=ber\n",
        "    acc = (predicted == y_batch).sum().item() / len(y_batch)\n",
        "    train_accuracies.append(acc)\n",
        "    train_losses.append(loss.item())\n",
        "    print('Epoch [{}/{}], Loss: {:.4f}, Accuracy: {:.4f}'.format(epoch+1, num_epochs, loss.item(), acc))"
      ],
      "metadata": {
        "id": "xGiSqF_M8STk",
        "colab": {
          "base_uri": "https://localhost:8080/"
        },
        "outputId": "e44b9d93-82b9-4025-d0ce-b0c418b233a2"
      },
      "execution_count": null,
      "outputs": [
        {
          "output_type": "stream",
          "name": "stdout",
          "text": [
            "Epoch [1/15], Loss: 0.3635, Accuracy: 0.7857\n",
            "Epoch [2/15], Loss: 0.4118, Accuracy: 0.8125\n",
            "Epoch [3/15], Loss: 0.3226, Accuracy: 0.8661\n",
            "Epoch [4/15], Loss: 0.3409, Accuracy: 0.8661\n",
            "Epoch [5/15], Loss: 0.4066, Accuracy: 0.8125\n",
            "Epoch [6/15], Loss: 0.3636, Accuracy: 0.8571\n",
            "Epoch [7/15], Loss: 0.3515, Accuracy: 0.8661\n",
            "Epoch [8/15], Loss: 0.4392, Accuracy: 0.8125\n",
            "Epoch [9/15], Loss: 0.4028, Accuracy: 0.8304\n",
            "Epoch [10/15], Loss: 0.4174, Accuracy: 0.8214\n",
            "Epoch [11/15], Loss: 0.3475, Accuracy: 0.8482\n",
            "Epoch [12/15], Loss: 0.3229, Accuracy: 0.8661\n",
            "Epoch [13/15], Loss: 0.3939, Accuracy: 0.8125\n",
            "Epoch [14/15], Loss: 0.4227, Accuracy: 0.8125\n",
            "Epoch [15/15], Loss: 0.3386, Accuracy: 0.8214\n"
          ]
        }
      ]
    },
    {
      "cell_type": "code",
      "source": [
        "#same procedure for validation set\n",
        "num_epochs = 15\n",
        "val_accuracies = []\n",
        "val_losses=[]\n",
        "for epoch in range(num_epochs):\n",
        "    for data in dataloader2:\n",
        "        x_batch, y_batch = data\n",
        "        x_batch= x_batch.view(-1, 1, 300)\n",
        "        output = model(x_batch)\n",
        "        y_batch = y_batch.view(-1)\n",
        "        y_batch=y_batch.long()\n",
        "        loss = criterion(output, y_batch)\n",
        "        optimizer.zero_grad()\n",
        "        loss.backward()\n",
        "        model.clip_gradients(clip_norm=1.0)\n",
        "        optimizer.step()\n",
        "    _, predicted = torch.max(output.data, 1)\n",
        "    acc = (predicted == y_batch).sum().item() / len(y_batch)\n",
        "    val_accuracies.append(acc)\n",
        "    val_losses.append(loss.item())\n",
        "    print('Epoch [{}/{}], Loss: {:.4f}, Accuracy: {:.4f}'.format(epoch+1, num_epochs, loss.item(), acc))"
      ],
      "metadata": {
        "id": "Efjp2B46VAg9",
        "colab": {
          "base_uri": "https://localhost:8080/"
        },
        "outputId": "120bd743-dc00-44d7-96a8-2504bf7ea67a"
      },
      "execution_count": null,
      "outputs": [
        {
          "output_type": "stream",
          "name": "stdout",
          "text": [
            "Epoch [1/15], Loss: 0.3348, Accuracy: 0.8646\n",
            "Epoch [2/15], Loss: 0.4305, Accuracy: 0.7917\n",
            "Epoch [3/15], Loss: 0.4287, Accuracy: 0.8021\n",
            "Epoch [4/15], Loss: 0.3541, Accuracy: 0.8125\n",
            "Epoch [5/15], Loss: 0.3659, Accuracy: 0.8646\n",
            "Epoch [6/15], Loss: 0.2510, Accuracy: 0.8958\n",
            "Epoch [7/15], Loss: 0.3471, Accuracy: 0.8854\n",
            "Epoch [8/15], Loss: 0.2754, Accuracy: 0.8958\n",
            "Epoch [9/15], Loss: 0.2943, Accuracy: 0.8958\n",
            "Epoch [10/15], Loss: 0.3645, Accuracy: 0.8229\n",
            "Epoch [11/15], Loss: 0.3909, Accuracy: 0.8229\n",
            "Epoch [12/15], Loss: 0.2574, Accuracy: 0.9167\n",
            "Epoch [13/15], Loss: 0.2586, Accuracy: 0.8958\n",
            "Epoch [14/15], Loss: 0.3261, Accuracy: 0.8125\n",
            "Epoch [15/15], Loss: 0.4362, Accuracy: 0.8229\n"
          ]
        }
      ]
    },
    {
      "cell_type": "code",
      "source": [
        "# Plot the learning curve\n",
        "plt.plot(train_accuracies, label='Train set accuracy')\n",
        "plt.plot(val_accuracies, label='Test set accuracy')\n",
        "plt.xlabel('Epoch')\n",
        "plt.ylabel('Accuracy')\n",
        "plt.legend(loc='lower left')\n",
        "plt.show()"
      ],
      "metadata": {
        "colab": {
          "base_uri": "https://localhost:8080/",
          "height": 279
        },
        "id": "MFTzwjDu-q6_",
        "outputId": "8f4deb74-64a1-4aef-ae0c-0f3af4809f37"
      },
      "execution_count": null,
      "outputs": [
        {
          "output_type": "display_data",
          "data": {
            "text/plain": [
              "<Figure size 432x288 with 1 Axes>"
            ],
            "image/png": "[encoded data removed]"
          },
          "metadata": {
            "needs_background": "light"
          }
        }
      ]
    },
    {
      "cell_type": "code",
      "source": [
        "#plotting accuracy per epoch on both sets\n",
        "plt.plot(train_losses, label='Train set losses')\n",
        "plt.plot(val_losses, label='Test set losses')\n",
        "plt.xlabel('Epoch')\n",
        "plt.ylabel('Accuracy')\n",
        "plt.legend(loc='lower left')\n",
        "plt.show()"
      ],
      "metadata": {
        "colab": {
          "base_uri": "https://localhost:8080/",
          "height": 279
        },
        "id": "m1MpWVQcNHfd",
        "outputId": "f99dcc68-f405-43ed-b403-fce4858c64ab"
      },
      "execution_count": null,
      "outputs": [
        {
          "output_type": "display_data",
          "data": {
            "text/plain": [
              "<Figure size 432x288 with 1 Axes>"
            ],
            "image/png": "[encoded data removed]"
          },
          "metadata": {
            "needs_background": "light"
          }
        }
      ]
    },
    {
      "cell_type": "code",
      "source": [
        "from sklearn.metrics import roc_auc_score, roc_curve,accuracy_score,recall_score\n",
        "import matplotlib.pyplot as pltS\n",
        "\n",
        "with torch.no_grad():\n",
        "    model.eval()\n",
        "    x_test = x_test.view(-1, 1, 300)\n",
        "    y_pred = model(x_test) # make predictions on the test set\n",
        "    y_pred = y_pred.view(-1, num_classes) # reshape the output tensor\n",
        "    y_pred = y_pred.argmax(dim=1) # find the index of the maximum value in each output\n",
        "    y_pred = y_pred.cpu().numpy() # convert the predictions to numpy array\n",
        "    y_test = y_test.cpu().numpy() # convert the labels to numpy array\n",
        "    accuracy = accuracy_score(y_test, y_pred) # calculate the accuracy\n",
        "    precision = precision_score(y_test, y_pred) # calculate the precision\n",
        "    recall = recall_score(y_test,y_pred)\n",
        "    f1 = f1_score(y_test, y_pred) # calculate the f1-score\n",
        "    # Calculate ROC AUC score and ROC curve for test set\n",
        "    val_roc_auc = roc_auc_score(y_test, y_pred)\n",
        "    fpr_val, tpr_val, _ = roc_curve(y_test, y_pred)\n",
        "    print(\"Test Set Accuracy: {:.4f} Precision: {:.4f} Recall: {:.4f} F1-Score: {:.4f}\".format(accuracy, precision,recall, f1))"
      ],
      "metadata": {
        "colab": {
          "base_uri": "https://localhost:8080/"
        },
        "id": "8bmMBcDD92A1",
        "outputId": "3625365e-8ed3-48e4-ddd3-34b8df50dcc8"
      },
      "execution_count": null,
      "outputs": [
        {
          "output_type": "stream",
          "name": "stdout",
          "text": [
            "Test Set Accuracy: 0.8495 Precision: 0.8458 Recall: 0.8597 F1-Score: 0.8527\n"
          ]
        }
      ]
    },
    {
      "cell_type": "code",
      "source": [
        "from sklearn.metrics import roc_auc_score, roc_curve,accuracy_score,recall_score\n",
        "import matplotlib.pyplot as plt\n",
        "\n",
        "   \n",
        "with torch.no_grad():\n",
        "    model.eval()\n",
        "    x_train = x_train.view(-1, 1, 300)\n",
        "    y_pred_train = model(x_train) # make predictions on the train set\n",
        "    y_pred_train = y_pred_train.view(-1, num_classes) # reshape the output tensor\n",
        "    y_pred_train = y_pred_train.argmax(dim=1) # find the index of the maximum value in each output\n",
        "    y_pred_train = y_pred_train.cpu().numpy() # convert the predictions to numpy array\n",
        "    y_train = y_train.cpu().numpy() # convert the labels to numpy array\n",
        "    accuracy_train = accuracy_score(y_train, y_pred_train) # calculate the accuracy for train set\n",
        "    precision_train = precision_score(y_train, y_pred_train) # calculate the precision for train set\n",
        "    recall_train = recall_score(y_test,y_pred)\n",
        "    f1_train = f1_score(y_train, y_pred_train) # calculate the f1-score for train set\n",
        "    # Calculate ROC AUC score and ROC curve for train set\n",
        "    train_roc_auc = roc_auc_score(y_train, y_pred_train)\n",
        "    fpr_train, tpr_train, _ = roc_curve(y_train, y_pred_train)\n",
        "\n",
        "    print(\"Train Set Accuracy: {:.4f} Precision: {:.4f} Recall: {:.4f} F1-Score: {:.4f}\".format(accuracy_train, precision_train,recall_train, f1_train))\n"
      ],
      "metadata": {
        "colab": {
          "base_uri": "https://localhost:8080/"
        },
        "id": "3fuMA4kXAiTF",
        "outputId": "abef9d0c-b955-413c-e146-6d2a683b5ab2"
      },
      "execution_count": null,
      "outputs": [
        {
          "output_type": "stream",
          "name": "stdout",
          "text": [
            "Train Set Accuracy: 0.8470 Precision: 0.8359 Recall: 0.8597 F1-Score: 0.8490\n"
          ]
        }
      ]
    },
    {
      "cell_type": "code",
      "source": [
        "\n",
        "# Plot the ROC curves\n",
        "plt.plot(fpr_train, tpr_train, label='Train set AUC: {:.8f}'.format(train_roc_auc))\n",
        "plt.plot(fpr_val, tpr_val, label='Test set AUC: {:.8f}'.format(val_roc_auc))\n",
        "plt.xlabel('False Positive Rate')\n",
        "plt.ylabel('True Positive Rate')\n",
        "plt.legend()\n",
        "plt.show()"
      ],
      "metadata": {
        "colab": {
          "base_uri": "https://localhost:8080/",
          "height": 279
        },
        "id": "aRYwa1Hb-tBp",
        "outputId": "cab2d27d-1bdd-4ba3-eb68-ea76fef67934"
      },
      "execution_count": null,
      "outputs": [
        {
          "output_type": "display_data",
          "data": {
            "text/plain": [
              "<Figure size 432x288 with 1 Axes>"
            ],
            "image/png": "[encoded data removed]"
          },
          "metadata": {
            "needs_background": "light"
          }
        }
      ]
    },
    {
      "cell_type": "code",
      "source": [
        "#tried this code given to try to save the model \n",
        "# the model is included to the zip\n",
        "model_scripted = torch.jit.script(model) # Export to TorchScript\n",
        "model_scripted.save('myNN.pt') # Save\n",
        "model = torch.jit.load('myNN.pt')\n",
        "model.eval()"
      ],
      "metadata": {
        "colab": {
          "base_uri": "https://localhost:8080/"
        },
        "id": "hj3I-wWv5m6X",
        "outputId": "a4bcf37f-211b-462a-f065-ac63bb7f54ce"
      },
      "execution_count": null,
      "outputs": [
        {
          "output_type": "execute_result",
          "data": {
            "text/plain": [
              "RecursiveScriptModule(\n",
              "  original_name=RNN\n",
              "  (cell_type): RecursiveScriptModule(original_name=GRU)\n",
              "  (dropout): RecursiveScriptModule(original_name=Dropout)\n",
              "  (fc): RecursiveScriptModule(original_name=Linear)\n",
              ")"
            ]
          },
          "metadata": {},
          "execution_count": 67
        }
      ]
    }
  ]
}