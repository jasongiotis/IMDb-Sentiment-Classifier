{
  "cells": [
    {
      "cell_type": "markdown",
      "metadata": {
        "id": "lmMYUzfTNcKG"
      },
      "source": [
        "# GloVe Example"
      ]
    },
    {
      "cell_type": "markdown",
      "metadata": {
        "id": "nj6_lyUun7k4"
      },
      "source": [
        "## Download GloVe Embeddings"
      ]
    },
    {
      "cell_type": "code",
      "execution_count": 1,
      "metadata": {
        "colab": {
          "base_uri": "https://localhost:8080/"
        },
        "id": "hHATZ4a6ONE0",
        "outputId": "d7745092-5e9e-4b21-e1f5-a85ee165980f"
      },
      "outputs": [
        {
          "output_type": "stream",
          "name": "stdout",
          "text": [
            "--2022-12-22 21:44:38--  http://nlp.stanford.edu/data/glove.6B.zip\n",
            "Resolving nlp.stanford.edu (nlp.stanford.edu)... 171.64.67.140\n",
            "Connecting to nlp.stanford.edu (nlp.stanford.edu)|171.64.67.140|:80... connected.\n",
            "HTTP request sent, awaiting response... 302 Found\n",
            "Location: https://nlp.stanford.edu/data/glove.6B.zip [following]\n",
            "--2022-12-22 21:44:38--  https://nlp.stanford.edu/data/glove.6B.zip\n",
            "Connecting to nlp.stanford.edu (nlp.stanford.edu)|171.64.67.140|:443... connected.\n",
            "HTTP request sent, awaiting response... 301 Moved Permanently\n",
            "Location: https://downloads.cs.stanford.edu/nlp/data/glove.6B.zip [following]\n",
            "--2022-12-22 21:44:38--  https://downloads.cs.stanford.edu/nlp/data/glove.6B.zip\n",
            "Resolving downloads.cs.stanford.edu (downloads.cs.stanford.edu)... 171.64.64.22\n",
            "Connecting to downloads.cs.stanford.edu (downloads.cs.stanford.edu)|171.64.64.22|:443... connected.\n",
            "HTTP request sent, awaiting response... 200 OK\n",
            "Length: 862182613 (822M) [application/zip]\n",
            "Saving to: ‘glove.6B.zip’\n",
            "\n",
            "glove.6B.zip        100%[===================>] 822.24M  5.02MB/s    in 2m 39s  \n",
            "\n",
            "2022-12-22 21:47:17 (5.18 MB/s) - ‘glove.6B.zip’ saved [862182613/862182613]\n",
            "\n"
          ]
        }
      ],
      "source": [
        "!wget http://nlp.stanford.edu/data/glove.6B.zip"
      ]
    },
    {
      "cell_type": "code",
      "execution_count": 2,
      "metadata": {
        "colab": {
          "base_uri": "https://localhost:8080/"
        },
        "id": "ScTsMlAEOSwl",
        "outputId": "73c39193-fedd-4f93-9004-3e37398b9280"
      },
      "outputs": [
        {
          "output_type": "stream",
          "name": "stdout",
          "text": [
            "Archive:  glove.6B.zip\n",
            "  inflating: glove.6B.50d.txt        \n",
            "  inflating: glove.6B.100d.txt       \n",
            "  inflating: glove.6B.200d.txt       \n",
            "  inflating: glove.6B.300d.txt       \n"
          ]
        }
      ],
      "source": [
        "!unzip glove*.zip"
      ]
    },
    {
      "cell_type": "code",
      "execution_count": 3,
      "metadata": {
        "colab": {
          "base_uri": "https://localhost:8080/"
        },
        "id": "MmuubPcDBiOV",
        "outputId": "68f8a350-4d73-40e6-a5d6-b2d75b4d0675"
      },
      "outputs": [
        {
          "output_type": "stream",
          "name": "stdout",
          "text": [
            "Mounted at /content/drive\n"
          ]
        }
      ],
      "source": [
        "from google.colab import drive\n",
        "drive.mount('/content/drive')"
      ]
    },
    {
      "cell_type": "code",
      "execution_count": 4,
      "metadata": {
        "colab": {
          "base_uri": "https://localhost:8080/"
        },
        "id": "5Jjr84AWZB92",
        "outputId": "d9b2d75a-e930-409d-899b-aa8e06d1ca1e"
      },
      "outputs": [
        {
          "output_type": "stream",
          "name": "stderr",
          "text": [
            "[nltk_data] Downloading package punkt to /root/nltk_data...\n",
            "[nltk_data]   Unzipping tokenizers/punkt.zip.\n",
            "[nltk_data] Downloading package stopwords to /root/nltk_data...\n",
            "[nltk_data]   Unzipping corpora/stopwords.zip.\n",
            "[nltk_data] Downloading package wordnet to /root/nltk_data...\n",
            "[nltk_data] Downloading package omw-1.4 to /root/nltk_data...\n"
          ]
        }
      ],
      "source": [
        "\n",
        "import csv\n",
        "import matplotlib.pyplot as plt\n",
        "import pandas as pd\n",
        "from sklearn.feature_extraction.text import CountVectorizer, TfidfVectorizer\n",
        "import nltk\n",
        "nltk.download('punkt')\n",
        "nltk.download('stopwords')\n",
        "nltk.download('wordnet')\n",
        "nltk.download('omw-1.4')\n",
        "import numpy as np\n",
        "from sklearn.linear_model import LogisticRegression\n",
        "import sklearn.metrics\n",
        "from sklearn.model_selection import train_test_split, cross_val_score\n",
        "\n",
        "from nltk import WordNetLemmatizer\n",
        "from nltk.stem import PorterStemmer\n",
        "from nltk.corpus import stopwords\n",
        "from nltk.tokenize import word_tokenize\n",
        "import re   \n",
        "import torch\n",
        "import torch.nn as nn\n",
        "import matplotlib.pyplot as plt\n",
        "import pandas as pd\n",
        "import numpy\n"
      ]
    },
    {
      "cell_type": "code",
      "execution_count": 164,
      "metadata": {
        "id": "Iocas4vfCuRv"
      },
      "outputs": [],
      "source": [
        "def normalize_review(review):\n",
        "    #normalize data\n",
        "    # Remove hashtags\n",
        "    res = re.sub(r'(#)(#)*(\\w)*', '', review)\n",
        "    # Remove all punctuations and special characters\n",
        "    res = re.sub(r'[^\\w\\s]', '', res)\n",
        "    return res\n",
        "def lemmatization(review):\n",
        "    lemmatizer = WordNetLemmatizer()\n",
        "    lemmatized_tweets_tokenized = []\n",
        "    review_words = []\n",
        "    word_tokens = word_tokenize(review)\n",
        "    for word in word_tokens:\n",
        "        lemmatized_word = lemmatizer.lemmatize(word)\n",
        "        review_words.append(lemmatized_word)\n",
        "\n",
        "    res =  (' '.join([str(elem) for elem in review_words]).lower())\n",
        "    return res"
      ]
    },
    {
      "cell_type": "code",
      "source": [],
      "metadata": {
        "colab": {
          "base_uri": "https://localhost:8080/"
        },
        "id": "oklI84qakrVI",
        "outputId": "9d3af7e7-2b7a-461d-ea9b-98cfe6778535"
      },
      "execution_count": 215,
      "outputs": [
        {
          "output_type": "stream",
          "name": "stdout",
          "text": [
            "False\n"
          ]
        }
      ]
    },
    {
      "cell_type": "markdown",
      "source": [
        "Please enter your Test Dataframe Here\n",
        "\n"
      ],
      "metadata": {
        "id": "uIiwcjhFb2_W"
      }
    },
    {
      "cell_type": "code",
      "source": [
        "my_test= None    # Please enter your dataframe here like this my_test = pd.read_csv('/content/drive/MyDrive/AI2/imdb-reviews.csv', sep='\\t')\n",
        "if(not (my_test is  None)):\n",
        "    my_test = pd.read_csv('/content/drive/MyDrive/AI2/imdb-reviews.csv', sep='\\t')\n",
        "    my_test['review'] = my_test['review'].apply(normalize_review)\n",
        "    my_test['review'] = my_test['review'].apply(lemmatization)\n",
        "    my_test.loc[my_test['rating'] <=4 , 'rating'] = 0   #if your dataframe already has ratings in binary form please comment out these two lines \n",
        "    my_test.loc[my_test['rating'] >= 7, 'rating'] = 1\n",
        "\n",
        "\n",
        "  \n"
      ],
      "metadata": {
        "id": "AfePJH0tbvKw"
      },
      "execution_count": 226,
      "outputs": []
    },
    {
      "cell_type": "code",
      "execution_count": 227,
      "metadata": {
        "id": "S5fkna66aRxr"
      },
      "outputs": [],
      "source": [
        "    df1 = pd.read_csv('/content/drive/MyDrive/AI2/imdb-reviews.csv', sep='\\t')\n",
        "    df1['review'] = df1['review'].apply(normalize_review)\n",
        "    df1['review'] = df1['review'].apply(lemmatization)\n",
        "    df1.loc[df1['rating'] <=4 , 'rating'] = 0\n",
        "    df1.loc[df1['rating'] >= 7, 'rating'] = 1\n"
      ]
    },
    {
      "cell_type": "markdown",
      "metadata": {
        "id": "py-j3cP6oDKI"
      },
      "source": [
        "## Transform GloVe embeddings to Word2Vec format"
      ]
    },
    {
      "cell_type": "code",
      "execution_count": 191,
      "metadata": {
        "colab": {
          "base_uri": "https://localhost:8080/"
        },
        "id": "tbrKc9rlNo_D",
        "outputId": "237276ed-9cce-471a-812a-ec0910dc9ef9"
      },
      "outputs": [
        {
          "output_type": "execute_result",
          "data": {
            "text/plain": [
              "(400000, 300)"
            ]
          },
          "metadata": {},
          "execution_count": 191
        }
      ],
      "source": [
        "from gensim.scripts.glove2word2vec import glove2word2vec\n",
        "import pandas as pd\n",
        "\n",
        "glove_input_file = 'glove.6B.300d.txt'\n",
        "w2v_output_file = '/content/drive/MyDrive/AI2/glv_with_w2v_format.txt'\n",
        "\n",
        "glove2word2vec(glove_input_file, w2v_output_file)"
      ]
    },
    {
      "cell_type": "code",
      "execution_count": 192,
      "metadata": {
        "id": "Tf53sI0XYvBQ"
      },
      "outputs": [],
      "source": [
        "from gensim.models import KeyedVectors\n",
        "\n",
        "model = KeyedVectors.load_word2vec_format(w2v_output_file, binary=False)"
      ]
    },
    {
      "cell_type": "code",
      "execution_count": 228,
      "metadata": {
        "colab": {
          "base_uri": "https://localhost:8080/"
        },
        "id": "BZu_PvVsgNlu",
        "outputId": "a0e5d2ce-06a1-409a-95e5-508cc8c63b11"
      },
      "outputs": [
        {
          "output_type": "stream",
          "name": "stdout",
          "text": [
            "45008\n"
          ]
        }
      ],
      "source": [
        "\n",
        "#creating w2v\n",
        "review_vector=[]\n",
        "for review in df1[\"review\"]:\n",
        "  k=0.0\n",
        "  rev_vector=0\n",
        "  for word in review.split():\n",
        "    if word in model.vocab:\n",
        "      k+=1.0\n",
        "      rev_vector+=model[word]\n",
        "  if(k!=0.0):\n",
        "    rev_vector/=k #dividing the sum of the words by k (the words from the review wich exist in the model's vocab)\n",
        "    review_vector.append(rev_vector)\n",
        "  else:\n",
        "    rev_vector=[0]*model.vector_size #initializing an array of 0 in case no word of the  model appears in review\n",
        "    review_vector.append(rev_vector)\n",
        "\n",
        "print(len(review_vector))\n",
        "\n",
        "      "
      ]
    },
    {
      "cell_type": "code",
      "execution_count": 230,
      "metadata": {
        "id": "dDPBts_GZNna"
      },
      "outputs": [],
      "source": [
        "revs=review_vector\n",
        "rt=df1[[\"rating\"]]\n",
        "\n",
        "if my_test is None:\n",
        "  x_train, x_test, y_train, y_test = train_test_split(revs, rt, test_size=0.2)\n",
        "else:\n",
        "    x_train=revs\n",
        "    y_train=rt\n",
        "    y_test=my_test[\"rating\"]\n",
        "    review_test_vector=[]\n",
        "    for review in my_test[\"review\"]: #converting your data to w2v as well\n",
        "      k=0.0\n",
        "      rev_vector=0\n",
        "      for word in review.split():\n",
        "        if word in model.vocab:\n",
        "          k+=1.0\n",
        "          rev_vector+=model[word]\n",
        "      if(k!=0.0):\n",
        "        rev_vector/=k\n",
        "        review_test_vector.append(rev_vector)\n",
        "      else:\n",
        "        rev_vector=[0]*model.vector_size\n",
        "        review_test_vector.append(rev_vector)\n",
        "    x_test= review_test_vector\n",
        "    print(len(x_test))\n",
        "\n",
        "\n",
        "\n"
      ]
    },
    {
      "cell_type": "code",
      "execution_count": 231,
      "metadata": {
        "id": "yPBTVggSaQ50"
      },
      "outputs": [],
      "source": [
        "y_train=np.array(y_train)\n",
        "x = torch.tensor(x_train,dtype=torch.float)\n",
        "y = torch.tensor(y_train,dtype=torch.float)"
      ]
    },
    {
      "cell_type": "markdown",
      "metadata": {
        "id": "i10vl9KnOwfE"
      },
      "source": [
        "## Create a Neural Network"
      ]
    },
    {
      "cell_type": "code",
      "execution_count": 234,
      "metadata": {
        "id": "wTlyzUiG8p5V"
      },
      "outputs": [],
      "source": [
        "class Net(nn.Module):\n",
        "    def __init__(self, D_in, H1, H2, H3, D_out):\n",
        "        super(Net, self).__init__()\n",
        "        \n",
        "        self.linear1 = nn.Linear(D_in, H1)\n",
        "        self.linear2 = nn.Linear(H1, H2)\n",
        "        self.linear3 = nn.Linear(H2, H3)\n",
        "        self.linear4 = nn.Linear(H3, D_out)\n",
        "        \n",
        "    def forward(self, x):\n",
        "        h1 = self.linear1(x)\n",
        "        h2 = self.linear2(h1)\n",
        "        h3 = self.linear3(h2)\n",
        "        out = self.linear4(h3)\n",
        "        return out"
      ]
    },
    {
      "cell_type": "code",
      "execution_count": 283,
      "metadata": {
        "id": "BXAcc2dLPPUe",
        "colab": {
          "base_uri": "https://localhost:8080/"
        },
        "outputId": "03a2e489-31a5-46b0-de93-fa16a0c74811"
      },
      "outputs": [
        {
          "output_type": "stream",
          "name": "stdout",
          "text": [
            "300\n"
          ]
        }
      ],
      "source": [
        "#Define layer sizes\n",
        "print(x.shape[1])\n",
        "D_in = x.shape[1]\n",
        "H1 = 200\n",
        "H2 =100\n",
        "H3 =50\n",
        "D_out = 1 \n",
        "\n",
        "#Define Hyperparameters\n",
        "learning_rate = 1e-4\n",
        "#Initialise model, loss, optimizer\n",
        "nmodel = Net(D_in, H1, H2, H3, D_out)\n",
        "loss_func = nn.MSELoss(reduction='sum') \n",
        "optimizer = torch.optim.SGD(nmodel.parameters(), lr=learning_rate)\n",
        "\n",
        "#Initialise dataloader\n",
        "dataset = torch.utils.data.TensorDataset(x, y)\n",
        "dataloader = torch.utils.data.DataLoader(dataset, batch_size=64, shuffle=True) # batch size\n"
      ]
    },
    {
      "cell_type": "markdown",
      "metadata": {
        "id": "tWzZl_LRTd6J"
      },
      "source": [
        "## Train Network"
      ]
    },
    {
      "cell_type": "code",
      "execution_count": 284,
      "metadata": {
        "colab": {
          "base_uri": "https://localhost:8080/"
        },
        "id": "fck--1cFP1Rd",
        "outputId": "5452198a-94b5-4f54-bc40-339c612d7f13"
      },
      "outputs": [
        {
          "output_type": "stream",
          "name": "stdout",
          "text": [
            "Epoch   0: Loss = 16.5790004629\n",
            "Epoch   1: Loss = 15.8394684580\n",
            "Epoch   2: Loss = 15.6708837817\n",
            "Epoch   3: Loss = 15.4382181066\n",
            "Epoch   4: Loss = 15.0880575637\n",
            "Epoch   5: Loss = 14.5368419786\n",
            "Epoch   6: Loss = 13.7326016333\n",
            "Epoch   7: Loss = 12.7567456196\n",
            "Epoch   8: Loss = 11.7743859554\n",
            "Epoch   9: Loss = 10.9016077819\n",
            "Epoch  10: Loss = 10.2668990759\n",
            "Epoch  11: Loss = 9.9145398640\n",
            "Epoch  12: Loss = 9.7057873487\n",
            "Epoch  13: Loss = 9.5368087398\n",
            "Epoch  14: Loss = 9.4459962023\n",
            "Epoch  15: Loss = 9.3550530750\n",
            "Epoch  16: Loss = 9.2283211822\n",
            "Epoch  17: Loss = 9.2302185858\n",
            "Epoch  18: Loss = 9.1882607264\n",
            "Epoch  19: Loss = 9.1341350108\n",
            "Epoch  20: Loss = 9.1014475263\n",
            "Epoch  21: Loss = 9.0649482658\n",
            "Epoch  22: Loss = 9.0033020855\n",
            "Epoch  23: Loss = 9.0299868457\n",
            "Epoch  24: Loss = 8.9914539610\n",
            "Epoch  25: Loss = 8.9964373277\n",
            "Epoch  26: Loss = 8.9464721620\n",
            "Epoch  27: Loss = 8.9238833805\n",
            "Epoch  28: Loss = 8.9312992740\n",
            "Epoch  29: Loss = 8.9166910797\n",
            "Epoch  30: Loss = 8.9312656362\n",
            "Epoch  31: Loss = 8.8764887898\n",
            "Epoch  32: Loss = 8.8471403723\n",
            "Epoch  33: Loss = 8.8686077065\n",
            "Epoch  34: Loss = 8.8574486016\n",
            "Epoch  35: Loss = 8.8306089811\n",
            "Epoch  36: Loss = 8.8339279227\n",
            "Epoch  37: Loss = 8.8434328194\n",
            "Epoch  38: Loss = 8.8537381860\n",
            "Epoch  39: Loss = 8.7761876249\n",
            "Epoch  40: Loss = 8.8810939391\n",
            "Epoch  41: Loss = 8.7724446293\n",
            "Epoch  42: Loss = 8.7954038142\n",
            "Epoch  43: Loss = 8.7797922224\n",
            "Epoch  44: Loss = 8.7893862572\n",
            "Epoch  45: Loss = 8.7893671168\n",
            "Epoch  46: Loss = 8.7280986483\n",
            "Epoch  47: Loss = 8.7684126586\n",
            "Epoch  48: Loss = 8.7613362724\n",
            "Epoch  49: Loss = 8.7561182857\n",
            "Epoch  50: Loss = 8.7280340542\n",
            "Epoch  51: Loss = 8.7387873076\n",
            "Epoch  52: Loss = 8.7619630312\n",
            "Epoch  53: Loss = 8.7839655800\n",
            "Epoch  54: Loss = 8.7298576972\n",
            "Epoch  55: Loss = 8.7105983688\n",
            "Epoch  56: Loss = 8.7197706729\n",
            "Epoch  57: Loss = 8.7483082766\n",
            "Epoch  58: Loss = 8.7146023535\n",
            "Epoch  59: Loss = 8.7243052350\n",
            "Epoch  60: Loss = 8.6906962047\n",
            "Epoch  61: Loss = 8.6833383677\n",
            "Epoch  62: Loss = 8.7436677897\n",
            "Epoch  63: Loss = 8.7018033920\n",
            "Epoch  64: Loss = 8.7159701376\n",
            "Epoch  65: Loss = 8.6867804349\n",
            "Epoch  66: Loss = 8.6913664455\n",
            "Epoch  67: Loss = 8.6591118208\n",
            "Epoch  68: Loss = 8.7001328875\n",
            "Epoch  69: Loss = 8.6863213941\n",
            "Epoch  70: Loss = 8.6981354996\n",
            "Epoch  71: Loss = 8.6541238449\n",
            "Epoch  72: Loss = 8.6845685335\n",
            "Epoch  73: Loss = 8.7143669670\n",
            "Epoch  74: Loss = 8.7069029639\n",
            "Epoch  75: Loss = 8.6699168305\n",
            "Epoch  76: Loss = 8.6917730250\n",
            "Epoch  77: Loss = 8.6690526796\n",
            "Epoch  78: Loss = 8.6644438757\n",
            "Epoch  79: Loss = 8.6732260448\n",
            "Epoch  80: Loss = 8.6710772946\n",
            "Epoch  81: Loss = 8.6560424522\n",
            "Epoch  82: Loss = 8.6377022592\n",
            "Epoch  83: Loss = 8.6607895296\n",
            "Epoch  84: Loss = 8.6437244187\n",
            "Epoch  85: Loss = 8.6703210572\n",
            "Epoch  86: Loss = 8.6686249635\n",
            "Epoch  87: Loss = 8.6505877866\n",
            "Epoch  88: Loss = 8.6450780467\n",
            "Epoch  89: Loss = 8.6464216934\n",
            "Epoch  90: Loss = 8.6609220259\n",
            "Epoch  91: Loss = 8.6368039463\n",
            "Epoch  92: Loss = 8.6319526533\n",
            "Epoch  93: Loss = 8.6261288438\n",
            "Epoch  94: Loss = 8.6297178014\n",
            "Epoch  95: Loss = 8.6227143772\n",
            "Epoch  96: Loss = 8.6583739775\n",
            "Epoch  97: Loss = 8.6322394290\n",
            "Epoch  98: Loss = 8.6192493769\n",
            "Epoch  99: Loss = 8.6037179877\n"
          ]
        }
      ],
      "source": [
        "eps=1e-4\n",
        "for epoch in range(100):\n",
        "  batch_losses = 0\n",
        "  for x_batch, y_batch in dataloader:\n",
        "    y_pred = nmodel(x_batch)\n",
        "    loss = loss_func(y_pred, y_batch)\n",
        "    if loss.isnan(): res=eps\n",
        "    else: res = loss.item()\n",
        "    batch_losses+=res\n",
        "    optimizer.zero_grad()\n",
        "    loss.backward()\n",
        "    optimizer.step()\n",
        "\n",
        "  print(f\"Epoch {epoch:3}: Loss = {batch_losses/len(dataloader):.10f}\")\n",
        "    "
      ]
    },
    {
      "cell_type": "code",
      "source": [
        "import math\n",
        "import sklearn.metrics\n",
        "\n",
        "def convert_to_binary(lst):\n",
        "  for item in lst:\n",
        "    item[0]=item[0]\n",
        "    if(item[0]>=0.5):\n",
        "      item[0]=1\n",
        "    else:\n",
        "      item[0]=0\n",
        "\n",
        "#calculate the needed scores with sklern.metrics\n",
        "predictions_val = nmodel(torch.tensor(x_test,dtype=torch.float))\n",
        "predictions_val_train = nmodel(torch.tensor(x_train,dtype=torch.float))\n",
        "prlist=predictions_val.tolist()\n",
        "prlist_train=predictions_val_train.tolist()\n",
        "convert_to_binary(prlist)\n",
        "convert_to_binary(prlist_train)\n",
        "precision_score =sklearn.metrics.precision_score(y_test,prlist)\n",
        "precision_score_train =sklearn.metrics.precision_score(y_train,prlist_train)\n",
        "recall_score=sklearn.metrics.recall_score(y_test,prlist)\n",
        "recall_score_train=sklearn.metrics.recall_score(y_train,prlist_train)\n",
        "f_measure=sklearn.metrics.f1_score(y_test,prlist)\n",
        "f_measure_train=sklearn.metrics.f1_score(y_train,prlist_train)\n",
        "print(\"Recall  (Test Set) :\",recall_score)\n",
        "print(\"Recall  (Train Set) :\",recall_score_train)\n",
        "print(\"Precision (Test Set) :\",precision_score)\n",
        "print(\"Precision (Train Set) :\",precision_score_train)\n",
        "print(\"F measure (Test Set) :\",f_measure)\n",
        "print(\"F measure (Train Set) :\",f_measure_train)\n",
        "\n",
        "\n"
      ],
      "metadata": {
        "colab": {
          "base_uri": "https://localhost:8080/"
        },
        "id": "8jSJVdKFBmTn",
        "outputId": "4d303cdd-6597-418d-b928-4cee6bbad66a"
      },
      "execution_count": 286,
      "outputs": [
        {
          "output_type": "stream",
          "name": "stdout",
          "text": [
            "Recall  (Test Set) : 0.8445780449788466\n",
            "Recall  (Train Set) : 0.8516956208025753\n",
            "Precision (Test Set) : 0.826721883173496\n",
            "Precision (Train Set) : 0.835374816266536\n",
            "F measure (Test Set) : 0.8355545764952087\n",
            "F measure (Train Set) : 0.8434562743912494\n"
          ]
        }
      ]
    },
    {
      "cell_type": "code",
      "source": [
        "#Printing ROC curves of test and train data with sklearn Roc_curve function\n",
        "train_crv=nmodel(torch.tensor(x_train,dtype=torch.float)).detach().numpy()\n",
        "x1,y1,t1=sklearn.metrics.roc_curve(y_test,predictions_val.detach().numpy() )\n",
        "x2,y2,t2=sklearn.metrics.roc_curve(y_train, train_crv)\n",
        "print(\"Train Data size:\",len(train_crv))\n",
        "print(\"Test Data size:\",len(prlist))\n",
        "plt.figure(figsize=(4, 4), dpi=110)\n",
        "plt.plot(x1,y1, marker='.', label=\"train set\")\n",
        "plt.plot(x2,y2,linestyle='-', label=\"test set\")\n",
        "plt.legend(loc='lower right')\n",
        "plt.title(\"ROC CURVE\")\n",
        "plt.show()"
      ],
      "metadata": {
        "colab": {
          "base_uri": "https://localhost:8080/",
          "height": 455
        },
        "id": "QUzzm2IgXNUo",
        "outputId": "791daad6-9adb-4d2e-f4b9-fddbb8e70dd5"
      },
      "execution_count": 241,
      "outputs": [
        {
          "output_type": "stream",
          "name": "stdout",
          "text": [
            "Train Data size: 36006\n",
            "Test Data size: 9002\n"
          ]
        },
        {
          "output_type": "display_data",
          "data": {
            "text/plain": [
              "<Figure size 440x440 with 1 Axes>"
            ],
            "image/png": "[encoded data removed]"
          },
          "metadata": {
            "needs_background": "light"
          }
        }
      ]
    }
  ],
  "metadata": {
    "colab": {
      "provenance": []
    },
    "kernelspec": {
      "display_name": "Python 3",
      "name": "python3"
    },
    "language_info": {
      "name": "python"
    }
  },
  "nbformat": 4,
  "nbformat_minor": 0
}
